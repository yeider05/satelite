{
 "cells": [
  {
   "cell_type": "markdown",
   "metadata": {},
   "source": [
    "caida libre "
   ]
  },
  {
   "cell_type": "markdown",
   "metadata": {},
   "source": [
    "Calcule la altura sobre la superficie h terrestre a la que debe estar un satélite que \n",
    "orbita la Tierra con período T. \n",
    "para esto debemos emplerar las ecuaciones de la ley gravitacion universal y la ley de \n",
    "movimiento circular las cuales son :\n",
    "    \n",
    "\\begin{equation} \\label{eq:ley gravitacion universal}\n",
    "F_{g}=\\frac{GmM}{r^{2}}\n",
    "\\end{equation}\n",
    "\n",
    "\n",
    "\n",
    "\n"
   ]
  },
  {
   "cell_type": "markdown",
   "metadata": {},
   "source": [
    "\\begin{equation} \\label{eq:ley de movimiento para la fuerza centripeta}\n",
    "F=\\frac{m v^{2}}{r}\n",
    "\\end{equation}\n",
    "\n",
    "ahora relacionamos las dos ecuaciones igualando las dos fuerzar y despejando el radio, obtemiendo la sigiente expresión :\n",
    "\n",
    "\n",
    "\n"
   ]
  },
  {
   "cell_type": "markdown",
   "metadata": {},
   "source": [
    "\\begin{equation} \\label{eq:ecuacion para emplear ( tercera ley de keppler )}\n",
    "r=(\\frac{T^{2} G M}{4 \\pi ^{2}})^{1/3}\n",
    "\\end{equation}\n"
   ]
  },
  {
   "cell_type": "markdown",
   "metadata": {},
   "source": [
    "a partir de esto debemos tener en cuenta el radio de la tierra entonces para hallar la altura se le resta el radio:"
   ]
  },
  {
   "cell_type": "markdown",
   "metadata": {},
   "source": [
    "\\begin{equation} \\label{eq:ecuacion para emplear ( tercera ley de keppler )}\n",
    "h=(\\frac{T^{2} G M}{4 \\pi ^{2}})^{1/3} -r_{tierra}\n",
    "\\end{equation}\n",
    "\n",
    "\n"
   ]
  },
  {
   "cell_type": "markdown",
   "metadata": {},
   "source": [
    "esta ecuación representa la altura del satelite en fuincion del periodo orbital "
   ]
  },
  {
   "cell_type": "markdown",
   "metadata": {},
   "source": [
    "entonces asigmanos los valores de cada una de las constantes, sabemos que el unico valor de entrada \n",
    "debe ser el periodo orbital del  satelite."
   ]
  },
  {
   "cell_type": "code",
   "execution_count": 34,
   "metadata": {},
   "outputs": [
    {
     "name": "stdout",
     "output_type": "stream",
     "text": [
      "digite el periodo: 86400\n"
     ]
    }
   ],
   "source": [
    "x=float(input(\"digite el periodo: \"))\n"
   ]
  },
  {
   "cell_type": "markdown",
   "metadata": {},
   "source": [
    "digitamos segun el inciso (3) un periodo orbital de 5060 seg "
   ]
  },
  {
   "cell_type": "code",
   "execution_count": 35,
   "metadata": {},
   "outputs": [],
   "source": [
    "M=5.97e24\n",
    "G=6.67e-11\n",
    "pi=3.14\n",
    "a=(x**2)*G*M\n",
    "b=4*(pi**2)\n",
    "r=6.37e6\n",
    "R=(a/b)**(1/3)\n",
    "total=R-r\n",
    "total2=total/1000\n",
    "t=round (total2,4)"
   ]
  },
  {
   "cell_type": "code",
   "execution_count": 36,
   "metadata": {},
   "outputs": [
    {
     "name": "stdout",
     "output_type": "stream",
     "text": [
      "la altura es de  35871.1877  km\n"
     ]
    }
   ],
   "source": [
    "print(\"la altura es de \" ,t, \" km\")"
   ]
  },
  {
   "cell_type": "markdown",
   "metadata": {},
   "source": [
    "para un periodo de 90 min (5400 seg), el satelite debe estar a un altura de 282.5702  km \n",
    "sobre la superficie de la tierra.\n",
    "\n",
    "ahora para un periodo de 45 min (2700 seg), el satelite debe estar a un altura de -2179.1434  km,\n",
    "lo que significa que el satelite no podria estar orbitando la tierra en este tiempo ya que una distancia\n",
    "negativa indicaria que el satelite se encuentra en la superficie de la tierra.\n",
    "\n",
    "\n"
   ]
  },
  {
   "cell_type": "markdown",
   "metadata": {},
   "source": [
    " (c)\n",
    " para un periodo orbita de 86148 seg que equivale a un dia sideral la altura es de  35789.0121  km lo cual significa que el satelite dio una vuelta a la tierra."
   ]
  },
  {
   "cell_type": "markdown",
   "metadata": {},
   "source": [
    "para un periodo orbial de 86400 seg la altura edl satelñite sobre la superficie de la tierra es de 35871.1877  km, la diferencia de la altura es de 82.17 km que se obtiene restando las alturas de los periodos 24 horas y 23.93 horas."
   ]
  },
  {
   "cell_type": "code",
   "execution_count": null,
   "metadata": {},
   "outputs": [],
   "source": []
  }
 ],
 "metadata": {
  "kernelspec": {
   "display_name": "Python 3",
   "language": "python",
   "name": "python3"
  },
  "language_info": {
   "codemirror_mode": {
    "name": "ipython",
    "version": 3
   },
   "file_extension": ".py",
   "mimetype": "text/x-python",
   "name": "python",
   "nbconvert_exporter": "python",
   "pygments_lexer": "ipython3",
   "version": "3.5.2"
  }
 },
 "nbformat": 4,
 "nbformat_minor": 2
}
